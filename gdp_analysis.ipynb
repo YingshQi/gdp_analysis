{
 "cells": [
  {
   "cell_type": "code",
   "execution_count": null,
   "metadata": {
    "vscode": {
     "languageId": "plaintext"
    }
   },
   "outputs": [],
   "source": [
    "import pandas as pd\n",
    "import matplotlib.pyplot as plt\n",
    "from fed.data import load_data, clean_gdp_data\n",
    "from fed.plot_utils import plot_gdp\n",
    "\n",
    "# Load the GDP data\n",
    "gdp_data = load_data(r\"C:\\Users\\yings\\Onedrive\\桌面\\D100\\gdp_data.xlsx\")\n",
    "\n",
    "# Clean the loaded data\n",
    "cleaned_gdp_data = clean_gdp_data(gdp_data)\n",
    "\n",
    "# Plot GDP for Brazil\n",
    "plot_gdp(cleaned_gdp_data, 'Brazil')\n"
   ]
  }
 ],
 "metadata": {
  "language_info": {
   "name": "python"
  }
 },
 "nbformat": 4,
 "nbformat_minor": 2
}
